{
  "nbformat": 4,
  "nbformat_minor": 0,
  "metadata": {
    "colab": {
      "provenance": [],
      "authorship_tag": "ABX9TyOjcCkJK8du2hmsIOIS6bmW",
      "include_colab_link": true
    },
    "kernelspec": {
      "name": "python3",
      "display_name": "Python 3"
    },
    "language_info": {
      "name": "python"
    }
  },
  "cells": [
    {
      "cell_type": "markdown",
      "metadata": {
        "id": "view-in-github",
        "colab_type": "text"
      },
      "source": [
        "<a href=\"https://colab.research.google.com/github/naveenthumati95/time-series-analysis-models/blob/main/simple_lstm_impl.ipynb\" target=\"_parent\"><img src=\"https://colab.research.google.com/assets/colab-badge.svg\" alt=\"Open In Colab\"/></a>"
      ]
    },
    {
      "cell_type": "code",
      "execution_count": 11,
      "metadata": {
        "id": "h8vYPJzJUlew"
      },
      "outputs": [],
      "source": [
        "# Importing all the required libraries\n",
        "import numpy as np\n",
        "import pandas as pd\n",
        "import matplotlib.pyplot as plt\n",
        "import seaborn as sns\n",
        "import warnings\n",
        "from keras.models import Sequential\n",
        "from keras.layers import Dense, LSTM, Flatten\n",
        "warnings.filterwarnings('ignore')"
      ]
    },
    {
      "cell_type": "code",
      "source": [
        "# Note: This nb is implemented by watch tutorial in youtube link:https://www.youtube.com/watch?v=UbvkhuqVqUI\n",
        "# in this nb we are going to implement LSTM on univariate time series data\n",
        "# PS: sales = [110, 125, 133, 146, 158, 172, 187, 196, 210]\n",
        "# Our aim is to use past 3 days data and predict the sales for today, like wise we will forecast for next 10 days\n",
        "# Data preprocessing:\n",
        "#     X           y\n",
        "# t1  t2  t3\n",
        "# 110 123 133    146\n",
        "# .....\n",
        "# 187 196 210     ?\n",
        "\n",
        "# splitting function for dep and indep features\n",
        "def prepare_data(ts_data, n_steps):\n",
        "    X,y=[],[]\n",
        "    for i in range(len(ts_data)):\n",
        "      end_x=i+n_steps\n",
        "      if end_x>len(ts_data)-1:\n",
        "        break\n",
        "      cur_x,cur_y=ts_data[i:end_x],ts_data[end_x]\n",
        "      X.append(cur_x)\n",
        "      y.append(cur_y)\n",
        "    return np.array(X),np.array(y)"
      ],
      "metadata": {
        "id": "fda5Aee1VVw1"
      },
      "execution_count": 12,
      "outputs": []
    },
    {
      "cell_type": "code",
      "source": [
        "# input data\n",
        "ts_data=[110, 125, 133, 146, 158, 172, 187, 196, 210]\n",
        "# no of time steps\n",
        "n_steps=3\n",
        "# splitting into samples\n",
        "X,y=prepare_data(ts_data,n_steps)"
      ],
      "metadata": {
        "id": "XuELhH5_Xl9C"
      },
      "execution_count": 14,
      "outputs": []
    },
    {
      "cell_type": "code",
      "source": [
        "# reshaping from [samples,timesteps] -> [samples,timesteps,features]\n",
        "n_features=1\n",
        "X=X.reshape((X.shape[0],X.shape[1],n_features))"
      ],
      "metadata": {
        "id": "jq79NhdUZacf"
      },
      "execution_count": 15,
      "outputs": []
    },
    {
      "cell_type": "code",
      "source": [
        "# building simple LSTM\n",
        "model=Sequential()\n",
        "model.add(LSTM(50,activation='relu',return_sequences=True,input_shape=(n_steps,n_features)))\n",
        "model.add(LSTM(50,activation='relu'))\n",
        "model.add(Dense(1))\n",
        "model.compile(optimizer='adam',loss='mse')\n",
        "\n",
        "model.fit(X,y,epochs=200,verbose=0)"
      ],
      "metadata": {
        "colab": {
          "base_uri": "https://localhost:8080/"
        },
        "id": "mnU6GG4jZ4dG",
        "outputId": "e7e75920-a067-42a2-84b6-db4e312e9acb"
      },
      "execution_count": 19,
      "outputs": [
        {
          "output_type": "execute_result",
          "data": {
            "text/plain": [
              "<keras.src.callbacks.history.History at 0x7961d6bec9b0>"
            ]
          },
          "metadata": {},
          "execution_count": 19
        }
      ]
    },
    {
      "cell_type": "code",
      "source": [
        "# predicting for the next 10 days\n",
        "cur_x=[187,196,210]\n",
        "y_pred=[]\n",
        "for i in range(10):\n",
        "  cur_x=np.array(cur_x)\n",
        "  cur_x=cur_x.reshape((1,n_steps,n_features))\n",
        "  pred_y=model.predict(cur_x)\n",
        "  y_pred.append(pred_y[0][0])\n",
        "  cur_x=np.append(cur_x[0],pred_y[0][0])\n",
        "  cur_x=cur_x[1:]"
      ],
      "metadata": {
        "colab": {
          "base_uri": "https://localhost:8080/"
        },
        "id": "Sq_TnGRSaTeg",
        "outputId": "4afba088-45ba-417d-97fc-62e46cb8c36f"
      },
      "execution_count": 22,
      "outputs": [
        {
          "output_type": "stream",
          "name": "stdout",
          "text": [
            "\u001b[1m1/1\u001b[0m \u001b[32m━━━━━━━━━━━━━━━━━━━━\u001b[0m\u001b[37m\u001b[0m \u001b[1m0s\u001b[0m 53ms/step\n",
            "\u001b[1m1/1\u001b[0m \u001b[32m━━━━━━━━━━━━━━━━━━━━\u001b[0m\u001b[37m\u001b[0m \u001b[1m0s\u001b[0m 58ms/step\n",
            "\u001b[1m1/1\u001b[0m \u001b[32m━━━━━━━━━━━━━━━━━━━━\u001b[0m\u001b[37m\u001b[0m \u001b[1m0s\u001b[0m 43ms/step\n",
            "\u001b[1m1/1\u001b[0m \u001b[32m━━━━━━━━━━━━━━━━━━━━\u001b[0m\u001b[37m\u001b[0m \u001b[1m0s\u001b[0m 34ms/step\n",
            "\u001b[1m1/1\u001b[0m \u001b[32m━━━━━━━━━━━━━━━━━━━━\u001b[0m\u001b[37m\u001b[0m \u001b[1m0s\u001b[0m 34ms/step\n",
            "\u001b[1m1/1\u001b[0m \u001b[32m━━━━━━━━━━━━━━━━━━━━\u001b[0m\u001b[37m\u001b[0m \u001b[1m0s\u001b[0m 35ms/step\n",
            "\u001b[1m1/1\u001b[0m \u001b[32m━━━━━━━━━━━━━━━━━━━━\u001b[0m\u001b[37m\u001b[0m \u001b[1m0s\u001b[0m 46ms/step\n",
            "\u001b[1m1/1\u001b[0m \u001b[32m━━━━━━━━━━━━━━━━━━━━\u001b[0m\u001b[37m\u001b[0m \u001b[1m0s\u001b[0m 36ms/step\n",
            "\u001b[1m1/1\u001b[0m \u001b[32m━━━━━━━━━━━━━━━━━━━━\u001b[0m\u001b[37m\u001b[0m \u001b[1m0s\u001b[0m 37ms/step\n",
            "\u001b[1m1/1\u001b[0m \u001b[32m━━━━━━━━━━━━━━━━━━━━\u001b[0m\u001b[37m\u001b[0m \u001b[1m0s\u001b[0m 35ms/step\n"
          ]
        }
      ]
    },
    {
      "cell_type": "code",
      "source": [
        "# predicting for next 10 days\n",
        "y_pred"
      ],
      "metadata": {
        "colab": {
          "base_uri": "https://localhost:8080/"
        },
        "id": "mIg0cAk2cdSl",
        "outputId": "1fa610ba-8c24-4c5b-cb93-b30382ff774b"
      },
      "execution_count": 23,
      "outputs": [
        {
          "output_type": "execute_result",
          "data": {
            "text/plain": [
              "[np.float32(224.7946),\n",
              " np.float32(235.07793),\n",
              " np.float32(248.63255),\n",
              " np.float32(262.8596),\n",
              " np.float32(274.59598),\n",
              " np.float32(288.52322),\n",
              " np.float32(302.9677),\n",
              " np.float32(316.2672),\n",
              " np.float32(331.08096),\n",
              " np.float32(346.34232)]"
            ]
          },
          "metadata": {},
          "execution_count": 23
        }
      ]
    },
    {
      "cell_type": "code",
      "source": [
        "plt.plot(ts_data)\n",
        "plt.plot(np.arange(len(ts_data),len(ts_data)+len(y_pred)),y_pred)"
      ],
      "metadata": {
        "colab": {
          "base_uri": "https://localhost:8080/",
          "height": 448
        },
        "id": "92Hlufxecfg9",
        "outputId": "0ae3a854-be88-4875-b35b-4bea27b68412"
      },
      "execution_count": 24,
      "outputs": [
        {
          "output_type": "execute_result",
          "data": {
            "text/plain": [
              "[<matplotlib.lines.Line2D at 0x7961d6181460>]"
            ]
          },
          "metadata": {},
          "execution_count": 24
        },
        {
          "output_type": "display_data",
          "data": {
            "text/plain": [
              "<Figure size 640x480 with 1 Axes>"
            ],
            "image/png": "[encoded data removed]"
          },
          "metadata": {}
        }
      ]
    }
  ]
}